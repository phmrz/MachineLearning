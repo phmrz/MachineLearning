{
 "cells": [
  {
   "cell_type": "code",
   "execution_count": 187,
   "metadata": {},
   "outputs": [],
   "source": [
    "%matplotlib inline\n",
    "from matplotlib import pyplot as plt\n",
    "import numpy as np"
   ]
  },
  {
   "cell_type": "code",
   "execution_count": 188,
   "metadata": {},
   "outputs": [],
   "source": [
    "def sigmoid(x):\n",
    "    return 1 / (1 + np.exp(-x))"
   ]
  },
  {
   "cell_type": "code",
   "execution_count": 204,
   "metadata": {},
   "outputs": [],
   "source": [
    "DATA = [[5, 3, 1], [4.5, 3, 1], [2, 1.5, 0], [1, 0.5, 0], [2, 2.5, 0], [1.5, 1.5, 0], [3.5, 3, 1],  [3.5, 4, 1],]\n",
    "UNKNOWN = [0, 0]\n",
    "\n",
    "WIDTH = []\n",
    "HEIGHT = []\n",
    "COLOR = []\n",
    "for i in range(len(DATA)):\n",
    "    WIDTH.append(DATA[i][0])\n",
    "    HEIGHT.append(DATA[i][1])\n",
    "    COLOR.append(DATA[i][2])\n",
    "\n",
    "learning_rate = .02\n",
    "w1 = np.random.randn()\n",
    "w2 = np.random.randn()\n",
    "b = np.random.randn()\n",
    "\n",
    "\n",
    "for i in range(50000):\n",
    "    ri = np.random.randint(len(DATA))\n",
    "    point = DATA[ri]\n",
    "\n",
    "        \n",
    "    z = point[0] * w1 + point[1] * w2 + b\n",
    "    pred = sigmoid(z)\n",
    "    target = point[2]\n",
    "\n",
    "    cost = np.square(pred - target)\n",
    "        \n",
    "    dcost = 2 * (pred - target)\n",
    "    dsigmoid = sigmoid(z) * (1 - sigmoid(z))\n",
    "        \n",
    "    dz_w1 = point[0]\n",
    "    dz_w2 = point[1]\n",
    "    dz_b = 1\n",
    "        \n",
    "    dcost_dw1 = dcost * dsigmoid * dz_w1\n",
    "    dcost_dw2 = dcost * dsigmoid * dz_w2\n",
    "    dcost_db = dcost * dsigmoid * dz_b\n",
    "\n",
    "    w1 -= dcost_dw1 * learning_rate\n",
    "    w2 -= dcost_dw2 * learning_rate\n",
    "    b -= dcost_db * learning_rate"
   ]
  },
  {
   "cell_type": "code",
   "execution_count": 203,
   "metadata": {},
   "outputs": [
    {
     "data": {
      "text/plain": [
       "0.00027106162834701863"
      ]
     },
     "execution_count": 203,
     "metadata": {},
     "output_type": "execute_result"
    }
   ],
   "source": [
    "sigmoid(UNKNOWN[0] * w1 + UNKNOWN[1] * w2 + b)"
   ]
  }
 ],
 "metadata": {
  "kernelspec": {
   "display_name": "Python 3",
   "language": "python",
   "name": "python3"
  }
 },
 "nbformat": 4,
 "nbformat_minor": 2
}
